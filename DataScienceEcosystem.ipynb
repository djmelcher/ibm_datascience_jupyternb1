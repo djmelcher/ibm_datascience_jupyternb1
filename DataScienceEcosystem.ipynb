{
 "cells": [
  {
   "cell_type": "markdown",
   "id": "0a1cf9b4-47da-45cc-ac2c-13aa2112c80e",
   "metadata": {},
   "source": [
    "# Data Science Tools & Ecosystem\n"
   ]
  },
  {
   "cell_type": "markdown",
   "id": "429a9bfd-64b9-48b1-9d00-bcd115b493d5",
   "metadata": {},
   "source": [
    "In this notebook, Data Science Tools and Ecosystem are summarized."
   ]
  },
  {
   "cell_type": "markdown",
   "id": "a29c086a-fb51-4cc3-b60f-8a1ef0360c83",
   "metadata": {},
   "source": [
    "**Objectives:**\n",
    "- Popular languages Data Scientists use.\n",
    "- Commonly used libraries used by Data Scientists.\n",
    "- List of Data Science Tools.\n",
    "- Using simple arithmetic expressions in Python."
   ]
  },
  {
   "cell_type": "markdown",
   "id": "25bd03ee-0b9d-4864-b833-e856a42e5b4a",
   "metadata": {},
   "source": [
    "Some of the popular languages Data Scientists use are:\n",
    "1) Julia\n",
    "2) Python\n",
    "3) R\n",
    "4) SQL\n",
    "5) Scala\n",
    "6) Java\n",
    "7) C++"
   ]
  },
  {
   "cell_type": "markdown",
   "id": "bbb22c6f-e094-4b0a-a67c-d0b4d2c60f43",
   "metadata": {},
   "source": [
    "Some of the commonly used libraries used by Data Scientists include:\n",
    "1) Pandas\n",
    "2) Numpy\n",
    "3) Matplotlib\n",
    "4) Seaborn\n",
    "5) Scikit-learn\n",
    "6) ApacheSpark\n",
    "7) ggplot2"
   ]
  },
  {
   "cell_type": "markdown",
   "id": "5d2a609a-9071-40da-9789-2cfd70352be5",
   "metadata": {},
   "source": [
    "|Data Science Tools|\n",
    "|------------------|\n",
    "|Jupyter Notebook|\n",
    "|RStudio|\n",
    "|Spyder|"
   ]
  },
  {
   "cell_type": "markdown",
   "id": "e94fc36f-932c-4ac2-b446-f5c2a37d9aab",
   "metadata": {},
   "source": [
    "### Below are a few examples of evaluating arithmetic expressions in Python:"
   ]
  },
  {
   "cell_type": "code",
   "execution_count": 1,
   "id": "5234a6c3-6894-4607-8844-f4fd3531c055",
   "metadata": {
    "tags": []
   },
   "outputs": [
    {
     "data": {
      "text/plain": [
       "17"
      ]
     },
     "execution_count": 1,
     "metadata": {},
     "output_type": "execute_result"
    }
   ],
   "source": [
    "## This a simple arithmetic expression to mutiply then add integers.\n",
    "(3*4)+5"
   ]
  },
  {
   "cell_type": "code",
   "execution_count": 2,
   "id": "d17fb08f-7394-457e-bcaa-4bb22d4ffe80",
   "metadata": {
    "tags": []
   },
   "outputs": [
    {
     "name": "stdout",
     "output_type": "stream",
     "text": [
      "200 minutes is equal to 3.3333333333333335 hours.\n"
     ]
    }
   ],
   "source": [
    "## This will convert 200 minutes to hours by diving by 60.\n",
    "minutes = 200\n",
    "hours = (minutes/60)\n",
    "print (minutes, \"minutes is equal to\", hours, \"hours.\")"
   ]
  },
  {
   "cell_type": "markdown",
   "id": "c303d34a-f7bd-48d8-803f-5fa29568fed2",
   "metadata": {},
   "source": [
    "## Author\n",
    "Daniel Melcher"
   ]
  }
 ],
 "metadata": {
  "kernelspec": {
   "display_name": "Python",
   "language": "python",
   "name": "conda-env-python-py"
  },
  "language_info": {
   "codemirror_mode": {
    "name": "ipython",
    "version": 3
   },
   "file_extension": ".py",
   "mimetype": "text/x-python",
   "name": "python",
   "nbconvert_exporter": "python",
   "pygments_lexer": "ipython3",
   "version": "3.7.12"
  }
 },
 "nbformat": 4,
 "nbformat_minor": 5
}
